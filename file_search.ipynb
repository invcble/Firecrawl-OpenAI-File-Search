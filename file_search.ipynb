{
 "cells": [
  {
   "cell_type": "code",
   "execution_count": 1,
   "id": "e8296d66",
   "metadata": {},
   "outputs": [
    {
     "name": "stdout",
     "output_type": "stream",
     "text": [
      "file-RFPLjigh2cBq2KFi64jSdm\n"
     ]
    }
   ],
   "source": [
    "import requests\n",
    "from io import BytesIO\n",
    "from openai import OpenAI\n",
    "\n",
    "client = OpenAI()\n",
    "\n",
    "def create_file(client, file_path):\n",
    "    if file_path.startswith(\"http://\") or file_path.startswith(\"https://\"):\n",
    "        # Download the file content from the URL\n",
    "        response = requests.get(file_path)\n",
    "        file_content = BytesIO(response.content)\n",
    "        file_name = file_path.split(\"/\")[-1]\n",
    "        file_tuple = (file_name, file_content)\n",
    "        result = client.files.create(\n",
    "            file=file_tuple,\n",
    "            purpose=\"assistants\"\n",
    "        )\n",
    "    else:\n",
    "        # Handle local file path\n",
    "        with open(file_path, \"rb\") as file_content:\n",
    "            result = client.files.create(\n",
    "                file=file_content,\n",
    "                purpose=\"assistants\"\n",
    "            )\n",
    "    print(result.id)\n",
    "    return result.id\n",
    "\n",
    "# Replace with your own file path or URL\n",
    "file_id = create_file(client, \"crawled_www_cascorp_com.json\")"
   ]
  },
  {
   "cell_type": "code",
   "execution_count": 2,
   "id": "04931604",
   "metadata": {},
   "outputs": [
    {
     "name": "stdout",
     "output_type": "stream",
     "text": [
      "vs_67f1c67e03188191842a037ab24261f3\n"
     ]
    }
   ],
   "source": [
    "vector_store = client.vector_stores.create(\n",
    "    name=\"knowledge_base_cascorp\"\n",
    ")\n",
    "print(vector_store.id)"
   ]
  },
  {
   "cell_type": "code",
   "execution_count": 3,
   "id": "c7644205",
   "metadata": {},
   "outputs": [
    {
     "data": {
      "text/plain": [
       "VectorStoreFile(id='file-RFPLjigh2cBq2KFi64jSdm', created_at=1743898375, last_error=None, object='vector_store.file', status='in_progress', usage_bytes=0, vector_store_id='vs_67f1c67e03188191842a037ab24261f3', attributes={}, chunking_strategy=StaticFileChunkingStrategyObject(static=StaticFileChunkingStrategy(chunk_overlap_tokens=400, max_chunk_size_tokens=800), type='static'))"
      ]
     },
     "execution_count": 3,
     "metadata": {},
     "output_type": "execute_result"
    }
   ],
   "source": [
    "client.vector_stores.files.create(\n",
    "    vector_store_id=vector_store.id,\n",
    "    file_id=file_id\n",
    ")"
   ]
  },
  {
   "cell_type": "code",
   "execution_count": 4,
   "id": "90e7a7e8",
   "metadata": {},
   "outputs": [
    {
     "name": "stdout",
     "output_type": "stream",
     "text": [
      "SyncCursorPage[VectorStoreFile](data=[VectorStoreFile(id='file-RFPLjigh2cBq2KFi64jSdm', created_at=1743898375, last_error=None, object='vector_store.file', status='completed', usage_bytes=1288692, vector_store_id='vs_67f1c67e03188191842a037ab24261f3', attributes={}, chunking_strategy=StaticFileChunkingStrategyObject(static=StaticFileChunkingStrategy(chunk_overlap_tokens=400, max_chunk_size_tokens=800), type='static'))], has_more=False, object='list', first_id='file-RFPLjigh2cBq2KFi64jSdm', last_id='file-RFPLjigh2cBq2KFi64jSdm')\n"
     ]
    }
   ],
   "source": [
    "result = client.vector_stores.files.list(\n",
    "    vector_store_id=vector_store.id\n",
    ")\n",
    "print(result)"
   ]
  },
  {
   "cell_type": "code",
   "execution_count": 13,
   "id": "f39e66d1",
   "metadata": {},
   "outputs": [
    {
     "name": "stdout",
     "output_type": "stream",
     "text": [
      "\n",
      "--- Full API Response ---\n",
      "\n",
      "{\n",
      "    \"id\": \"resp_67f1ca41191481918fd98246ef722d4f05b0dbb36b08e34a\",\n",
      "    \"created_at\": 1743899201.0,\n",
      "    \"error\": null,\n",
      "    \"incomplete_details\": null,\n",
      "    \"instructions\": null,\n",
      "    \"metadata\": {},\n",
      "    \"model\": \"gpt-4o-mini-2024-07-18\",\n",
      "    \"object\": \"response\",\n",
      "    \"output\": [\n",
      "        {\n",
      "            \"id\": \"msg_67f1ca417f088191a0d229d7d325ec8105b0dbb36b08e34a\",\n",
      "            \"content\": [\n",
      "                {\n",
      "                    \"annotations\": [],\n",
      "                    \"text\": \"CasCorp is a financial consulting and investment firm, specializing in various areas, including investments, corporate finance, and asset management. \\n\\nAs for their presence in India, I don't have the specific address or current details about their operations there. I recommend checking their official website or contacting them directly for the most accurate and up-to-date information regarding their office locations.\",\n",
      "                    \"type\": \"output_text\"\n",
      "                }\n",
      "            ],\n",
      "            \"role\": \"assistant\",\n",
      "            \"status\": \"completed\",\n",
      "            \"type\": \"message\"\n",
      "        }\n",
      "    ],\n",
      "    \"parallel_tool_calls\": true,\n",
      "    \"temperature\": 1.0,\n",
      "    \"tool_choice\": \"auto\",\n",
      "    \"tools\": [],\n",
      "    \"top_p\": 1.0,\n",
      "    \"max_output_tokens\": null,\n",
      "    \"previous_response_id\": null,\n",
      "    \"reasoning\": {\n",
      "        \"effort\": null,\n",
      "        \"generate_summary\": null\n",
      "    },\n",
      "    \"status\": \"completed\",\n",
      "    \"text\": {\n",
      "        \"format\": {\n",
      "            \"type\": \"text\"\n",
      "        }\n",
      "    },\n",
      "    \"truncation\": \"disabled\",\n",
      "    \"usage\": {\n",
      "        \"input_tokens\": 26,\n",
      "        \"input_tokens_details\": {\n",
      "            \"cached_tokens\": 0\n",
      "        },\n",
      "        \"output_tokens\": 72,\n",
      "        \"output_tokens_details\": {\n",
      "            \"reasoning_tokens\": 0\n",
      "        },\n",
      "        \"total_tokens\": 98\n",
      "    },\n",
      "    \"user\": null,\n",
      "    \"store\": true\n",
      "}\n"
     ]
    }
   ],
   "source": [
    "from openai import OpenAI\n",
    "import json\n",
    "client = OpenAI()\n",
    "\n",
    "response = client.responses.create(\n",
    "    model=\"gpt-4o-mini\",\n",
    "    input=\"Who are cascorp? Do they have office in India? If so what's the complete address?\"\n",
    ")\n",
    "\n",
    "print(\"\\n--- Full API Response ---\\n\")\n",
    "print(json.dumps(response.model_dump(), indent=4))"
   ]
  },
  {
   "cell_type": "code",
   "execution_count": null,
   "id": "48df825f",
   "metadata": {},
   "outputs": [],
   "source": [
    "# ^without file search it acknowledges company, but can't give back the address"
   ]
  },
  {
   "cell_type": "code",
   "execution_count": 12,
   "id": "59da2b54",
   "metadata": {},
   "outputs": [
    {
     "name": "stdout",
     "output_type": "stream",
     "text": [
      "\n",
      "--- Full API Response ---\n",
      "\n",
      "{\n",
      "    \"id\": \"resp_67f1c9fcd5d0819191d8dd88f5fd7fe3047dd1296d684004\",\n",
      "    \"created_at\": 1743899132.0,\n",
      "    \"error\": null,\n",
      "    \"incomplete_details\": null,\n",
      "    \"instructions\": null,\n",
      "    \"metadata\": {},\n",
      "    \"model\": \"gpt-4o-mini-2024-07-18\",\n",
      "    \"object\": \"response\",\n",
      "    \"output\": [\n",
      "        {\n",
      "            \"id\": \"fs_67f1c9fd65b08191b22eadd904a22573047dd1296d684004\",\n",
      "            \"queries\": [\n",
      "                \"Who are Cascorp?\",\n",
      "                \"Does Cascorp have an office in India?\",\n",
      "                \"What is the address of Cascorp in India?\"\n",
      "            ],\n",
      "            \"status\": \"completed\",\n",
      "            \"type\": \"file_search_call\",\n",
      "            \"results\": null\n",
      "        },\n",
      "        {\n",
      "            \"id\": \"msg_67f1ca000ba48191acbecbb631711f8b047dd1296d684004\",\n",
      "            \"content\": [\n",
      "                {\n",
      "                    \"annotations\": [\n",
      "                        {\n",
      "                            \"file_id\": \"file-RFPLjigh2cBq2KFi64jSdm\",\n",
      "                            \"index\": 265,\n",
      "                            \"type\": \"file_citation\",\n",
      "                            \"filename\": \"crawled_www_cascorp_com.json\"\n",
      "                        },\n",
      "                        {\n",
      "                            \"file_id\": \"file-RFPLjigh2cBq2KFi64jSdm\",\n",
      "                            \"index\": 265,\n",
      "                            \"type\": \"file_citation\",\n",
      "                            \"filename\": \"crawled_www_cascorp_com.json\"\n",
      "                        },\n",
      "                        {\n",
      "                            \"file_id\": \"file-RFPLjigh2cBq2KFi64jSdm\",\n",
      "                            \"index\": 469,\n",
      "                            \"type\": \"file_citation\",\n",
      "                            \"filename\": \"crawled_www_cascorp_com.json\"\n",
      "                        },\n",
      "                        {\n",
      "                            \"file_id\": \"file-RFPLjigh2cBq2KFi64jSdm\",\n",
      "                            \"index\": 469,\n",
      "                            \"type\": \"file_citation\",\n",
      "                            \"filename\": \"crawled_www_cascorp_com.json\"\n",
      "                        }\n",
      "                    ],\n",
      "                    \"text\": \"Cascorp, or Cascade Corporation, is a company that specializes in material handling solutions, including products for forklifts and automated systems. Founded in 1943 in Portland, Oregon, USA, it has grown to include manufacturing plants and sales offices worldwide.\\n\\nYes, Cascorp has an office in India. The complete address is:\\n\\n**Cascade India Material Handling Pvt Ltd**  \\nGat. No. 319/1 & 319/2, Village Kuruli,  \\nTaluka Khed,  \\nPune 410501,  \\nMaharashtra,  \\nIndia.\",\n",
      "                    \"type\": \"output_text\"\n",
      "                }\n",
      "            ],\n",
      "            \"role\": \"assistant\",\n",
      "            \"status\": \"completed\",\n",
      "            \"type\": \"message\"\n",
      "        }\n",
      "    ],\n",
      "    \"parallel_tool_calls\": true,\n",
      "    \"temperature\": 1.0,\n",
      "    \"tool_choice\": \"auto\",\n",
      "    \"tools\": [\n",
      "        {\n",
      "            \"type\": \"file_search\",\n",
      "            \"vector_store_ids\": [\n",
      "                \"vs_67f1c67e03188191842a037ab24261f3\"\n",
      "            ],\n",
      "            \"filters\": null,\n",
      "            \"max_num_results\": 20,\n",
      "            \"ranking_options\": {\n",
      "                \"ranker\": \"auto\",\n",
      "                \"score_threshold\": 0.0\n",
      "            }\n",
      "        }\n",
      "    ],\n",
      "    \"top_p\": 1.0,\n",
      "    \"max_output_tokens\": null,\n",
      "    \"previous_response_id\": null,\n",
      "    \"reasoning\": {\n",
      "        \"effort\": null,\n",
      "        \"generate_summary\": null\n",
      "    },\n",
      "    \"status\": \"completed\",\n",
      "    \"text\": {\n",
      "        \"format\": {\n",
      "            \"type\": \"text\"\n",
      "        }\n",
      "    },\n",
      "    \"truncation\": \"disabled\",\n",
      "    \"usage\": {\n",
      "        \"input_tokens\": 17645,\n",
      "        \"input_tokens_details\": {\n",
      "            \"cached_tokens\": 0\n",
      "        },\n",
      "        \"output_tokens\": 182,\n",
      "        \"output_tokens_details\": {\n",
      "            \"reasoning_tokens\": 0\n",
      "        },\n",
      "        \"total_tokens\": 17827\n",
      "    },\n",
      "    \"user\": null,\n",
      "    \"store\": true\n",
      "}\n"
     ]
    }
   ],
   "source": [
    "from openai import OpenAI\n",
    "import json\n",
    "client = OpenAI()\n",
    "\n",
    "response = client.responses.create(\n",
    "    model=\"gpt-4o-mini\",\n",
    "    input=\"Who are cascorp? Do they have office in India? If so what's the complete address?\",\n",
    "    tools=[{\n",
    "        \"type\": \"file_search\",\n",
    "        \"vector_store_ids\": [f\"{vector_store.id}\"]\n",
    "    }]\n",
    ")\n",
    "\n",
    "print(\"\\n--- Full API Response ---\\n\")\n",
    "print(json.dumps(response.model_dump(), indent=4))"
   ]
  },
  {
   "cell_type": "code",
   "execution_count": null,
   "id": "e220d575",
   "metadata": {},
   "outputs": [],
   "source": [
    "# ^with file search it acknowledges company, and gives back the correct address"
   ]
  },
  {
   "cell_type": "code",
   "execution_count": 14,
   "id": "ba7753b0",
   "metadata": {},
   "outputs": [
    {
     "name": "stdout",
     "output_type": "stream",
     "text": [
      "file-TkJGnZakyggEjbM43LvFZD\n"
     ]
    }
   ],
   "source": [
    "fluke_file_id = create_file(client, \"crawled_fluke_com.json\")"
   ]
  },
  {
   "cell_type": "code",
   "execution_count": 15,
   "id": "b93f6ca5",
   "metadata": {},
   "outputs": [
    {
     "data": {
      "text/plain": [
       "VectorStoreFile(id='file-TkJGnZakyggEjbM43LvFZD', created_at=1743899716, last_error=None, object='vector_store.file', status='in_progress', usage_bytes=0, vector_store_id='vs_67f1c67e03188191842a037ab24261f3', attributes={}, chunking_strategy=StaticFileChunkingStrategyObject(static=StaticFileChunkingStrategy(chunk_overlap_tokens=400, max_chunk_size_tokens=800), type='static'))"
      ]
     },
     "execution_count": 15,
     "metadata": {},
     "output_type": "execute_result"
    }
   ],
   "source": [
    "client.vector_stores.files.create(\n",
    "    vector_store_id=vector_store.id,\n",
    "    file_id=fluke_file_id\n",
    ")"
   ]
  },
  {
   "cell_type": "code",
   "execution_count": 16,
   "id": "3acf8767",
   "metadata": {},
   "outputs": [
    {
     "name": "stdout",
     "output_type": "stream",
     "text": [
      "SyncCursorPage[VectorStoreFile](data=[VectorStoreFile(id='file-TkJGnZakyggEjbM43LvFZD', created_at=1743899716, last_error=None, object='vector_store.file', status='completed', usage_bytes=2017805, vector_store_id='vs_67f1c67e03188191842a037ab24261f3', attributes={}, chunking_strategy=StaticFileChunkingStrategyObject(static=StaticFileChunkingStrategy(chunk_overlap_tokens=400, max_chunk_size_tokens=800), type='static')), VectorStoreFile(id='file-RFPLjigh2cBq2KFi64jSdm', created_at=1743898375, last_error=None, object='vector_store.file', status='completed', usage_bytes=1288692, vector_store_id='vs_67f1c67e03188191842a037ab24261f3', attributes={}, chunking_strategy=StaticFileChunkingStrategyObject(static=StaticFileChunkingStrategy(chunk_overlap_tokens=400, max_chunk_size_tokens=800), type='static'))], has_more=False, object='list', first_id='file-TkJGnZakyggEjbM43LvFZD', last_id='file-RFPLjigh2cBq2KFi64jSdm')\n"
     ]
    }
   ],
   "source": [
    "result = client.vector_stores.files.list(\n",
    "    vector_store_id=vector_store.id\n",
    ")\n",
    "print(result)"
   ]
  },
  {
   "cell_type": "code",
   "execution_count": 28,
   "id": "39381870",
   "metadata": {},
   "outputs": [
    {
     "name": "stdout",
     "output_type": "stream",
     "text": [
      "\n",
      "--- Full API Response ---\n",
      "\n",
      "{\n",
      "    \"id\": \"resp_67f1e092bf3c819197a0dc80bf693ebd01c704140ab1b54d\",\n",
      "    \"created_at\": 1743904914.0,\n",
      "    \"error\": null,\n",
      "    \"incomplete_details\": null,\n",
      "    \"instructions\": null,\n",
      "    \"metadata\": {},\n",
      "    \"model\": \"gpt-4o-mini-2024-07-18\",\n",
      "    \"object\": \"response\",\n",
      "    \"output\": [\n",
      "        {\n",
      "            \"id\": \"fs_67f1e0933b048191b21bebd0d352fc1f01c704140ab1b54d\",\n",
      "            \"queries\": [\n",
      "                \"Who are Fluke?\",\n",
      "                \"Do Fluke have an office in India?\",\n",
      "                \"Fluke office address in India\"\n",
      "            ],\n",
      "            \"status\": \"completed\",\n",
      "            \"type\": \"file_search_call\",\n",
      "            \"results\": [\n",
      "                {\n",
      "                    \"attributes\": {},\n",
      "                    \"file_id\": \"file-BCYvbEAaigX5XpaUnXqGbE\",\n",
      "                    \"filename\": \"crawled_derrick_com.json\",\n",
      "                    \"score\": 0.8854740169731466,\n",
      "                    \"text\": \"com/contact/#content)\\\\n\\\\n[![](https://derrick.com/wp-content/smush-webp/2023/10/logo-derrick-redwhite_prefooter.png.webp)](https://derrick.com/)\\\\n\\\\n- [GLOBAL MAP](https://derrick.com/world-map/)\\\\n- [CAREERS](https://derrick.com/careers-at-derrick/)\\\\n\\\\nSearch\\\\n\\\\n# Contact\\\\n\\\\n###### Derrick\\\\n\\\\n## Main USA Offices\\\\n\\\\n**Derrick\\u00ae\\u00a0Corporation**\\\\n\\\\n_(Corporate Headquarters_ _and Mining & Industrial Division)_\\\\n\\\\n590 Duke Road\\\\n\\\\nBuffalo, New York 14225 U.S.A.\\\\n\\\\nPhone: +1 (716) 683 \\u2013 9010\\\\n\\\\n**Derrick Corporation**\\\\n\\\\n_(Drilling Headquarters_ _and Civil Construction Division)_\\\\n\\\\n15630 Export Plaza Drive\\\\n\\\\nHouston, Texas 77032 U.S.A.\\\\n\\\\nPhone: +1 (281) 590\\u00a0\\u2013\\u00a03003\\\\n\\\\n## Looking for a Derrick Contact in Your Area?\\\\n\\\\nClick the below button to find an Authorized Derrick Distributor and/or Sales Representative in your region of the world!\\\\n\\\\n[Global Network](https://derrick.com/world-map/)\\\\n\\\\n###### Derrick\\\\n\\\\n## Global Offices\\\\n\\\\n**Derrick Corporation \\u2013 Canada**\\\\n\\\\n_Drilling Division:_\\\\n\\\\n#101, 3906 71st Avenue\\\\n\\\\nLeduc, AB T9E 0R3 Alberta Canada\\\\n\\\\nPhone: +1 (780) 612-0020\\\\n\\\\n**Derrick Corporation \\u2013 South Africa**\\\\n\\\\nUnit 13 Edward Square, 136 Edward Avenue\\\\n\\\\nHennopspark Ext 54, Centurion\\\\n\\\\nSouth Africa, 0157\\\\n\\\\nPhone: +27 126536843\\\\n\\\\n**Derrick Corporation \\u2013 U.A.E.**\\\\n\\\\nJAFZA View 18, #LB 180508\\\\n\\\\nPO Box 263189, Jebel Ali\\\\n\\\\nDubai, United Arab Emirates\\\\n\\\\nPhone: +971 4 884 8315\\\\n\\\\n**Derrick Corporation \\u2013 India**\\\\n\\\\nUnit No. 3, 12th\\u00a0Floor, Gulshan One 29,\\\\n\\\\nPlot No. C-3, E-1, Sector 129\\\\n\\\\nNoida, Uttar Pradesh, India 201304\\\\n\\\\n**Derrick Corporation \\u2013 Malaysia**\\\\n\\\\nB-3-9, 3rd Floor, Block B, Megan Avenue II,\\\\n\\\\n12, Jalan Yap Kwan Seng,\\u00a0\\u200b\\\\n\\\\n50450 Kuala Lumpur, Malaysia\\\\n\\\\n**Derrick Corporation \\u2013 Singapore**\\\\n\\\\n12 Woodlands Square, #13-75\\\\n\\\\nWoods Square Tower 1\\\\n\\\\nSingapore 737715\\\\n\\\\n**Derrick Corporation \\u2013 Indonesia**\\\\n\\\\nGraha Inti fauzi, 12th Floor\\\\n\\\\nJl.\"\n",
      "                },\n",
      "                {\n",
      "                    \"attributes\": {},\n",
      "                    \"file_id\": \"file-RFPLjigh2cBq2KFi64jSdm\",\n",
      "                    \"filename\": \"crawled_www_cascorp_com.json\",\n",
      "                    \"score\": 0.7496052232704272,\n",
      "                    \"text\": \"[](https://www.cascorp.com/sites/default/files/styles/215x321/public/2024-10/Sandro%20Derks_for%20web.jpg?h=4d77ce13&itok=ZweCO9sa)\\\\n\\\\n#### Sandro Derks\\\\n\\\\nRegional Sales Manager - North Western Europe\\\\n\\\\nCascade Europe\\\\n\\\\nFort Ruigenhoek 5\\\\n\\\\n1358 DAAlmere\\\\n\\\\nNetherlands\\\\n\\\\n[Phone:+31 (0) 610 894 092](tel:+31 (0) 610 894 092) [sandro.derks@cascorp.com](mailto:sandro.derks@cascorp.com)\\\\n\\\\nTerritories\\\\n\\\\nNorth Western Europe\\\",\\r\\n      \\\"metadata\\\": {\\r\\n        \\\"url\\\": \\\"https://www.cascorp.com/es-es/es-es/remanufacturedsales\\\",\\r\\n        \\\"title\\\": \\\"Ventas de equipos reconstruidos | Cascade Corporation\\\",\\r\\n        \\\"favicon\\\": {},\\r\\n        \\\"language\\\": \\\"es-es\\\",\\r\\n        \\\"scrapeId\\\": \\\"463fb6f6-0fa3-4d72-ad97-6c264b607862\\\",\\r\\n        \\\"viewport\\\": \\\"width=device-width, initial-scale=1.0\\\",\\r\\n        \\\"Generator\\\": \\\"Drupal 10 (https://www.drupal.org); Commerce 2\\\",\\r\\n        \\\"sourceURL\\\": \\\"https://www.cascorp.com/es-es/es-es/remanufacturedsales\\\",\\r\\n        \\\"statusCode\\\": 200,\\r\\n        \\\"MobileOptimized\\\": \\\"width\\\",\\r\\n        \\\"HandheldFriendly\\\": \\\"true\\\"\\r\\n      }\\r\\n    },\\r\\n    {\\r\\n      \\\"markdown\\\": \\\"[Skip to main content](https://www.cascorp.com/in/en-in/warranty#main-content)\\\\n\\\\n- [Home](https://www.cascorp.com/in/en-in)\\\\n\\\\n# Warranty Support\\\\n\\\\nLearn more about the Cascade PERFORMANCE+ Programs [here](https://www.cascorp.com/en-in/performanceplus1).\\\\n\\\\n- [Home](https://www.cascorp.com/in/en-in)\\\\n\\\\n### Support Contacts\\\\n\\\\n- [India](https://www.cascorp.com/in/en-in/warranty#230548828-3023875264)\\\\n\\\\n[India](https://www.cascorp.com/in/en-in/warranty#230548828-3023875264)\\\\n\\\\n![](https://www.cascorp.com/sites/default/files/styles/215x321/public/2021-12/person.png?h=27e4ecab&itok=XOct1_v-)\\\\n\\\\n#### Abhijit Kulkarni\\\\n\\\\nCustomer Support / Parts / Warranty\\\\n\\\\nCascade India Material Handling Pvt Ltd\\\\n\\\\nGat. No. 319/1 & 319/2, Village Kuruli,\\\\n\\\\nTaluka Khed\\\\n\\\\nPune410510\\\\n\\\\nMaharashtra\\\\n\\\\nIndia\\\\n\\\\n[Phone:+9177200 25755](tel:+9177200 25755) [abhijit.kulkarni@cascorp.com](mailto:abhijit.kulkarni@cascorp.com)\\\\n\\\\nTerritories\\\\n\\\\nIndia\\\\n\\\\n![](https://www.cascorp.com/sites/default/files/styles/215x321/public/2021-12/person.png?h=27e4ecab&itok=XOct1_v-)\\\\n\\\\n#### Vaibhav Nimbkar\\\\n\\\\nCustomer Support / Parts / Warranty\\\\n\\\\nCascade India Material Handling Pvt Ltd\\\\n\\\\nGat. No.\"\n",
      "                }\n",
      "            ]\n",
      "        },\n",
      "        {\n",
      "            \"id\": \"fs_67f1e09566648191924063a97166c93201c704140ab1b54d\",\n",
      "            \"queries\": [\n",
      "                \"What does Fluke do?\",\n",
      "                \"Fluke company overview\",\n",
      "                \"Fluke office list in India\"\n",
      "            ],\n",
      "            \"status\": \"completed\",\n",
      "            \"type\": \"file_search_call\",\n",
      "            \"results\": [\n",
      "                {\n",
      "                    \"attributes\": {},\n",
      "                    \"file_id\": \"file-BCYvbEAaigX5XpaUnXqGbE\",\n",
      "                    \"filename\": \"crawled_derrick_com.json\",\n",
      "                    \"score\": 0.8419099267433285,\n",
      "                    \"text\": \"com/contact/#content)\\\\n\\\\n[![](https://derrick.com/wp-content/smush-webp/2023/10/logo-derrick-redwhite_prefooter.png.webp)](https://derrick.com/)\\\\n\\\\n- [GLOBAL MAP](https://derrick.com/world-map/)\\\\n- [CAREERS](https://derrick.com/careers-at-derrick/)\\\\n\\\\nSearch\\\\n\\\\n# Contact\\\\n\\\\n###### Derrick\\\\n\\\\n## Main USA Offices\\\\n\\\\n**Derrick\\u00ae\\u00a0Corporation**\\\\n\\\\n_(Corporate Headquarters_ _and Mining & Industrial Division)_\\\\n\\\\n590 Duke Road\\\\n\\\\nBuffalo, New York 14225 U.S.A.\\\\n\\\\nPhone: +1 (716) 683 \\u2013 9010\\\\n\\\\n**Derrick Corporation**\\\\n\\\\n_(Drilling Headquarters_ _and Civil Construction Division)_\\\\n\\\\n15630 Export Plaza Drive\\\\n\\\\nHouston, Texas 77032 U.S.A.\\\\n\\\\nPhone: +1 (281) 590\\u00a0\\u2013\\u00a03003\\\\n\\\\n## Looking for a Derrick Contact in Your Area?\\\\n\\\\nClick the below button to find an Authorized Derrick Distributor and/or Sales Representative in your region of the world!\\\\n\\\\n[Global Network](https://derrick.com/world-map/)\\\\n\\\\n###### Derrick\\\\n\\\\n## Global Offices\\\\n\\\\n**Derrick Corporation \\u2013 Canada**\\\\n\\\\n_Drilling Division:_\\\\n\\\\n#101, 3906 71st Avenue\\\\n\\\\nLeduc, AB T9E 0R3 Alberta Canada\\\\n\\\\nPhone: +1 (780) 612-0020\\\\n\\\\n**Derrick Corporation \\u2013 South Africa**\\\\n\\\\nUnit 13 Edward Square, 136 Edward Avenue\\\\n\\\\nHennopspark Ext 54, Centurion\\\\n\\\\nSouth Africa, 0157\\\\n\\\\nPhone: +27 126536843\\\\n\\\\n**Derrick Corporation \\u2013 U.A.E.**\\\\n\\\\nJAFZA View 18, #LB 180508\\\\n\\\\nPO Box 263189, Jebel Ali\\\\n\\\\nDubai, United Arab Emirates\\\\n\\\\nPhone: +971 4 884 8315\\\\n\\\\n**Derrick Corporation \\u2013 India**\\\\n\\\\nUnit No. 3, 12th\\u00a0Floor, Gulshan One 29,\\\\n\\\\nPlot No. C-3, E-1, Sector 129\\\\n\\\\nNoida, Uttar Pradesh, India 201304\\\\n\\\\n**Derrick Corporation \\u2013 Malaysia**\\\\n\\\\nB-3-9, 3rd Floor, Block B, Megan Avenue II,\\\\n\\\\n12, Jalan Yap Kwan Seng,\\u00a0\\u200b\\\\n\\\\n50450 Kuala Lumpur, Malaysia\\\\n\\\\n**Derrick Corporation \\u2013 Singapore**\\\\n\\\\n12 Woodlands Square, #13-75\\\\n\\\\nWoods Square Tower 1\\\\n\\\\nSingapore 737715\\\\n\\\\n**Derrick Corporation \\u2013 Indonesia**\\\\n\\\\nGraha Inti fauzi, 12th Floor\\\\n\\\\nJl.\"\n",
      "                },\n",
      "                {\n",
      "                    \"attributes\": {},\n",
      "                    \"file_id\": \"file-TkJGnZakyggEjbM43LvFZD\",\n",
      "                    \"filename\": \"crawled_fluke_com.json\",\n",
      "                    \"score\": 0.6619653777032349,\n",
      "                    \"text\": \"com](mailto:fluke@q80united.com)\\\\n\\\\n### Q EIGHTY Company\\\\n\\\\nHANDHELD TEST TOOLS DISTRIBUTOR\\\\n\\\\nManawi Al Basha \\u2013 Hay Oman # 122/77\\\\n\\\\nBehind Mutaz Centre\\\\n\\\\nBasra\\\\n\\\\nIraq\\\\n\\\\nOffice: [+9647807827943/45](tel:+9647807827943/45)\\\\n\\\\nSales: [+9647809150350](tel:+9647809150350), [+9647809150340](tel:+9647809150340)\\\\n\\\\nOil & Gas: [+9647809150341](tel:+9647809150341)\\\\n\\\\nEmail: [fluke@q80united.com](mailto:fluke@q80united.com)\\\\n\\\\n### Q EIGHTY Company\\\\n\\\\nHANDHELD TEST TOOLS DISTRIBUTOR\\\\n\\\\nAL Awqaf Str, Next to Kirkuk Court\\\\n\\\\nKirkuk\\\\n\\\\nIraq\\\\n\\\\nShowroom: [+9647809150343](tel:+9647809150343)\\\\n\\\\nSales: [+9647809150353](tel:+9647809150353)\\\\n\\\\nEmail: [fluke@q80united.com](mailto:fluke@q80united.com)\\\\n\\\\n### Jordan\\\\n\\\\n### PAN ARAB TECHNOLOGY CO.\\\\n\\\\nHANDHELD TEST TOOLS DISTRIBUTOR\\\\n\\\\nPo Box 184194\\\\n\\\\nAmman 11118\\\\n\\\\nJordan\\\\n\\\\nPhone number: [+9626 586 8561](tel:+9626 586 8561), [+9626 586 8562](tel:+9626 586 8562)\\\\n\\\\nTelefax number:+9626 586 8560\\\\n\\\\nEmail: [mnazzal@patco-jo.com](mailto:mnazzal@patco-jo.com)\\\\n\\\\n### Kuwait\\\\n\\\\n### Q EIGHTY United General Trading & Cont Co\\\\n\\\\nHANDHELD TEST TOOLS DISTRIBUTOR\\\\n\\\\nSharq \\u2013 Ahmed Al Jaber St. Al Raed Center, 7th Floor\\\\n\\\\nKuwait City\\\\n\\\\nKuwait\\\\n\\\\nPhone number: [+965 22458328](tel:+965 22458328), [+965 22452775](tel:+965 22452775), [+965 22432467](tel:+965 22432467)\\\\n\\\\nTelefax number:+965 22458329, +965 22452776\\\\n\\\\nEmail: [sales@q80united.com](mailto:sales@q80united.com)\\\\n\\\\n[Website](http://www.q80united.com/ \\\\\\\"(opens in a new window)\\\\\\\")\\\\n\\\\n### Lebanon\\\\n\\\\n### Al Bonian Group sal.\\\\n\\\\nHANDHELD TEST TOOLS DISTRIBUTOR\\\\n\\\\nTayouneh, Al-Ghazaleh Bldg.\\\\n\\\\nP.O.\"\n",
      "                }\n",
      "            ]\n",
      "        },\n",
      "        {\n",
      "            \"id\": \"msg_67f1e09759b88191acf8e212e48f313101c704140ab1b54d\",\n",
      "            \"content\": [\n",
      "                {\n",
      "                    \"annotations\": [\n",
      "                        {\n",
      "                            \"file_id\": \"file-TkJGnZakyggEjbM43LvFZD\",\n",
      "                            \"index\": 509,\n",
      "                            \"type\": \"file_citation\",\n",
      "                            \"filename\": \"crawled_fluke_com.json\"\n",
      "                        }\n",
      "                    ],\n",
      "                    \"text\": \"Fluke Corporation is a well-known company that provides electronic test tools and software for various industries, including electrical, HVAC, and industrial automation. They are recognized for producing high-quality equipment used for testing, troubleshooting, and maintaining electrical systems.\\n\\nYes, Fluke has an office in India. Here are the details:\\n\\n**Address:**\\nFluke India Private Limited  \\nUnit No. 3, 12th Floor, Gulshan One 29,  \\nPlot No. C-3, E-1, Sector 129,  \\nNoida, Uttar Pradesh, India 201304.\",\n",
      "                    \"type\": \"output_text\"\n",
      "                }\n",
      "            ],\n",
      "            \"role\": \"assistant\",\n",
      "            \"status\": \"completed\",\n",
      "            \"type\": \"message\"\n",
      "        }\n",
      "    ],\n",
      "    \"parallel_tool_calls\": true,\n",
      "    \"temperature\": 1.0,\n",
      "    \"tool_choice\": \"auto\",\n",
      "    \"tools\": [\n",
      "        {\n",
      "            \"type\": \"file_search\",\n",
      "            \"vector_store_ids\": [\n",
      "                \"vs_67f1c67e03188191842a037ab24261f3\"\n",
      "            ],\n",
      "            \"filters\": null,\n",
      "            \"max_num_results\": 2,\n",
      "            \"ranking_options\": {\n",
      "                \"ranker\": \"auto\",\n",
      "                \"score_threshold\": 0.0\n",
      "            }\n",
      "        }\n",
      "    ],\n",
      "    \"top_p\": 1.0,\n",
      "    \"max_output_tokens\": null,\n",
      "    \"previous_response_id\": null,\n",
      "    \"reasoning\": {\n",
      "        \"effort\": null,\n",
      "        \"generate_summary\": null\n",
      "    },\n",
      "    \"status\": \"completed\",\n",
      "    \"text\": {\n",
      "        \"format\": {\n",
      "            \"type\": \"text\"\n",
      "        }\n",
      "    },\n",
      "    \"truncation\": \"disabled\",\n",
      "    \"usage\": {\n",
      "        \"input_tokens\": 5895,\n",
      "        \"input_tokens_details\": {\n",
      "            \"cached_tokens\": 0\n",
      "        },\n",
      "        \"output_tokens\": 192,\n",
      "        \"output_tokens_details\": {\n",
      "            \"reasoning_tokens\": 0\n",
      "        },\n",
      "        \"total_tokens\": 6087\n",
      "    },\n",
      "    \"user\": null,\n",
      "    \"store\": true\n",
      "}\n"
     ]
    }
   ],
   "source": [
    "from openai import OpenAI\n",
    "import json\n",
    "client = OpenAI()\n",
    "\n",
    "response = client.responses.create(\n",
    "    model=\"gpt-4o-mini\",\n",
    "    input=\"Who are fluke? Do they have office in India? If so what's the complete address?\",\n",
    "    tools=[{\n",
    "        \"type\": \"file_search\",\n",
    "        \"vector_store_ids\": [f\"{vector_store.id}\"],\n",
    "        \"max_num_results\": 2\n",
    "    }],\n",
    "    include=[\"file_search_call.results\"]\n",
    ")\n",
    "\n",
    "print(\"\\n--- Full API Response ---\\n\")\n",
    "print(json.dumps(response.model_dump(), indent=4))"
   ]
  },
  {
   "cell_type": "code",
   "execution_count": null,
   "id": "a935e0ac",
   "metadata": {},
   "outputs": [],
   "source": [
    "# ^acknowledges company, but wrongly pulls address from another company"
   ]
  },
  {
   "cell_type": "code",
   "execution_count": 19,
   "id": "2d76f168",
   "metadata": {},
   "outputs": [
    {
     "name": "stdout",
     "output_type": "stream",
     "text": [
      "file-BCYvbEAaigX5XpaUnXqGbE\n"
     ]
    }
   ],
   "source": [
    "derrick_file_id = create_file(client, \"crawled_derrick_com.json\")"
   ]
  },
  {
   "cell_type": "code",
   "execution_count": 20,
   "id": "44f9b027",
   "metadata": {},
   "outputs": [
    {
     "data": {
      "text/plain": [
       "VectorStoreFile(id='file-BCYvbEAaigX5XpaUnXqGbE', created_at=1743904323, last_error=None, object='vector_store.file', status='in_progress', usage_bytes=0, vector_store_id='vs_67f1c67e03188191842a037ab24261f3', attributes={}, chunking_strategy=StaticFileChunkingStrategyObject(static=StaticFileChunkingStrategy(chunk_overlap_tokens=400, max_chunk_size_tokens=800), type='static'))"
      ]
     },
     "execution_count": 20,
     "metadata": {},
     "output_type": "execute_result"
    }
   ],
   "source": [
    "client.vector_stores.files.create(\n",
    "    vector_store_id=vector_store.id,\n",
    "    file_id=derrick_file_id\n",
    ")"
   ]
  },
  {
   "cell_type": "code",
   "execution_count": 21,
   "id": "40c6fd73",
   "metadata": {},
   "outputs": [
    {
     "name": "stdout",
     "output_type": "stream",
     "text": [
      "SyncCursorPage[VectorStoreFile](data=[VectorStoreFile(id='file-BCYvbEAaigX5XpaUnXqGbE', created_at=1743904323, last_error=None, object='vector_store.file', status='completed', usage_bytes=1392091, vector_store_id='vs_67f1c67e03188191842a037ab24261f3', attributes={}, chunking_strategy=StaticFileChunkingStrategyObject(static=StaticFileChunkingStrategy(chunk_overlap_tokens=400, max_chunk_size_tokens=800), type='static')), VectorStoreFile(id='file-TkJGnZakyggEjbM43LvFZD', created_at=1743899716, last_error=None, object='vector_store.file', status='completed', usage_bytes=2017805, vector_store_id='vs_67f1c67e03188191842a037ab24261f3', attributes={}, chunking_strategy=StaticFileChunkingStrategyObject(static=StaticFileChunkingStrategy(chunk_overlap_tokens=400, max_chunk_size_tokens=800), type='static')), VectorStoreFile(id='file-RFPLjigh2cBq2KFi64jSdm', created_at=1743898375, last_error=None, object='vector_store.file', status='completed', usage_bytes=1288692, vector_store_id='vs_67f1c67e03188191842a037ab24261f3', attributes={}, chunking_strategy=StaticFileChunkingStrategyObject(static=StaticFileChunkingStrategy(chunk_overlap_tokens=400, max_chunk_size_tokens=800), type='static'))], has_more=False, object='list', first_id='file-BCYvbEAaigX5XpaUnXqGbE', last_id='file-RFPLjigh2cBq2KFi64jSdm')\n"
     ]
    }
   ],
   "source": [
    "result = client.vector_stores.files.list(\n",
    "    vector_store_id=vector_store.id\n",
    ")\n",
    "print(result)"
   ]
  },
  {
   "cell_type": "code",
   "execution_count": 22,
   "id": "79e7df0f",
   "metadata": {},
   "outputs": [
    {
     "name": "stdout",
     "output_type": "stream",
     "text": [
      "\n",
      "--- Full API Response ---\n",
      "\n",
      "{\n",
      "    \"id\": \"resp_67f1de877c6c8191b9abb313eed0bb4309f166de7ccd4b80\",\n",
      "    \"created_at\": 1743904391.0,\n",
      "    \"error\": null,\n",
      "    \"incomplete_details\": null,\n",
      "    \"instructions\": null,\n",
      "    \"metadata\": {},\n",
      "    \"model\": \"gpt-4o-mini-2024-07-18\",\n",
      "    \"object\": \"response\",\n",
      "    \"output\": [\n",
      "        {\n",
      "            \"id\": \"fs_67f1de880cb481919581cc7840cbcb4b09f166de7ccd4b80\",\n",
      "            \"queries\": [\n",
      "                \"Who are Derrick?\",\n",
      "                \"Derrick office address in India\"\n",
      "            ],\n",
      "            \"status\": \"completed\",\n",
      "            \"type\": \"file_search_call\",\n",
      "            \"results\": null\n",
      "        },\n",
      "        {\n",
      "            \"id\": \"msg_67f1de8a89508191b95b86977398536309f166de7ccd4b80\",\n",
      "            \"content\": [\n",
      "                {\n",
      "                    \"annotations\": [\n",
      "                        {\n",
      "                            \"file_id\": \"file-BCYvbEAaigX5XpaUnXqGbE\",\n",
      "                            \"index\": 228,\n",
      "                            \"type\": \"file_citation\",\n",
      "                            \"filename\": \"crawled_derrick_com.json\"\n",
      "                        },\n",
      "                        {\n",
      "                            \"file_id\": \"file-BCYvbEAaigX5XpaUnXqGbE\",\n",
      "                            \"index\": 455,\n",
      "                            \"type\": \"file_citation\",\n",
      "                            \"filename\": \"crawled_derrick_com.json\"\n",
      "                        }\n",
      "                    ],\n",
      "                    \"text\": \"Derrick Corporation was founded by H. William Derrick Jr. in 1951 and focuses on providing mechanical separation solutions for the mining industry, particularly through innovative technologies like the Integrated Vibratory Motor.\\n\\nYes, Derrick Corporation has an office in India. The complete address is:\\n\\n**Derrick Solutions India Pvt. Ltd.**  \\nUnit No. 3, 12th Floor, Gulshan One 29,  \\nPlot No. C-3, E-1, Sector 129,  \\nNoida, Uttar Pradesh, India 201304.\",\n",
      "                    \"type\": \"output_text\"\n",
      "                }\n",
      "            ],\n",
      "            \"role\": \"assistant\",\n",
      "            \"status\": \"completed\",\n",
      "            \"type\": \"message\"\n",
      "        }\n",
      "    ],\n",
      "    \"parallel_tool_calls\": true,\n",
      "    \"temperature\": 1.0,\n",
      "    \"tool_choice\": \"auto\",\n",
      "    \"tools\": [\n",
      "        {\n",
      "            \"type\": \"file_search\",\n",
      "            \"vector_store_ids\": [\n",
      "                \"vs_67f1c67e03188191842a037ab24261f3\"\n",
      "            ],\n",
      "            \"filters\": null,\n",
      "            \"max_num_results\": 20,\n",
      "            \"ranking_options\": {\n",
      "                \"ranker\": \"auto\",\n",
      "                \"score_threshold\": 0.0\n",
      "            }\n",
      "        }\n",
      "    ],\n",
      "    \"top_p\": 1.0,\n",
      "    \"max_output_tokens\": null,\n",
      "    \"previous_response_id\": null,\n",
      "    \"reasoning\": {\n",
      "        \"effort\": null,\n",
      "        \"generate_summary\": null\n",
      "    },\n",
      "    \"status\": \"completed\",\n",
      "    \"text\": {\n",
      "        \"format\": {\n",
      "            \"type\": \"text\"\n",
      "        }\n",
      "    },\n",
      "    \"truncation\": \"disabled\",\n",
      "    \"usage\": {\n",
      "        \"input_tokens\": 18077,\n",
      "        \"input_tokens_details\": {\n",
      "            \"cached_tokens\": 0\n",
      "        },\n",
      "        \"output_tokens\": 153,\n",
      "        \"output_tokens_details\": {\n",
      "            \"reasoning_tokens\": 0\n",
      "        },\n",
      "        \"total_tokens\": 18230\n",
      "    },\n",
      "    \"user\": null,\n",
      "    \"store\": true\n",
      "}\n"
     ]
    }
   ],
   "source": [
    "from openai import OpenAI\n",
    "import json\n",
    "client = OpenAI()\n",
    "\n",
    "response = client.responses.create(\n",
    "    model=\"gpt-4o-mini\",\n",
    "    input=\"Who are derrick? Do they have office in India? If so what's the complete address?\",\n",
    "    tools=[{\n",
    "        \"type\": \"file_search\",\n",
    "        \"vector_store_ids\": [f\"{vector_store.id}\"]\n",
    "    }]\n",
    ")\n",
    "\n",
    "print(\"\\n--- Full API Response ---\\n\")\n",
    "print(json.dumps(response.model_dump(), indent=4))"
   ]
  }
 ],
 "metadata": {
  "kernelspec": {
   "display_name": "Python 3",
   "language": "python",
   "name": "python3"
  },
  "language_info": {
   "codemirror_mode": {
    "name": "ipython",
    "version": 3
   },
   "file_extension": ".py",
   "mimetype": "text/x-python",
   "name": "python",
   "nbconvert_exporter": "python",
   "pygments_lexer": "ipython3",
   "version": "3.11.8"
  }
 },
 "nbformat": 4,
 "nbformat_minor": 5
}
